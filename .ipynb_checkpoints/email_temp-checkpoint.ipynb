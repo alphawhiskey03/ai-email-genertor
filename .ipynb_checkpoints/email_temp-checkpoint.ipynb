{
 "cells": [
  {
   "cell_type": "code",
   "execution_count": 1,
   "id": "145aa78e-b3f5-4309-8e58-19b8b93adfd4",
   "metadata": {},
   "outputs": [],
   "source": [
    "from langchain_groq import ChatGroq\n",
    "llm = ChatGroq(\n",
    "    model=\"llama3-8b-8192\",\n",
    "    groq_api_key='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',\n",
    "    temperature=0\n",
    ")\n",
    "# llm_response= llm.invoke(\"The new version of react is ...\")\n"
   ]
  },
  {
   "cell_type": "code",
   "execution_count": 2,
   "id": "aff98595-4e01-4446-af80-6f7935178ca8",
   "metadata": {},
   "outputs": [
    {
     "name": "stderr",
     "output_type": "stream",
     "text": [
      "USER_AGENT environment variable not set, consider setting it to identify your requests.\n"
     ]
    },
    {
     "name": "stdout",
     "output_type": "stream",
     "text": [
      "Apply for Software Engineer II, ITC\n",
      "\n",
      "Search JobsSkip navigationSearch JobsNIKE, INC. JOBSContract JobsJoin The Talent CommunityLife @ NikeOverviewBenefitsBrandsOverviewJordanConverseTeamsOverviewAdministrative SupportAdvanced InnovationAir Manufacturing InnovationAviationCommunicationsCustomer ServiceDesignDigitalFacilitiesFinance & AccountingGovernment & Public AffairsHuman ResourcesInsights & AnalyticsLegalManufacturing & EngineeringMarketingMerchandisingPlanningPrivacyProcurementProduct Creation, Development & ManagementRetail CorporateRetail StoresSalesSocial & Community ImpactSports MarketingStrategic PlanningSupply Chain, Distribution & LogisticsSustainabilityTechnologyLocationsOverviewNike WHQNike New York HQEHQ: Hilversum, The NetherlandsELC: Laakdal, BelgiumGreater China HQDiversity, Equity & InclusionOverviewMilitary InclusionDisability InclusionIndigenous InclusionInternshipsTechnologySoftware Engineer II, ITCKarnataka, IndiaBecome a Part of the NIKE, Inc. TeamNIKE, Inc. does more than outfit the world’s best athletes. It is a place to explore potential, obliterate boundaries and push out the edges of what can be. The company looks for people who can grow, think, dream and create. Its culture thrives by embracing diversity and rewarding imagination. The brand seeks achievers, leaders and visionaries. At NIKE, Inc. it’s about each person bringing skills and passion to a challenging and constantly evolving game.NIKE is a technology company. From our flagship website and five-star mobile apps to developing products, managing big data and providing leading edge engineering and systems support, our teams at NIKE Global Technology exist to revolutionize the future at the confluence of tech and sport. We invest and develop advances in technology and employ the most creative people in the world, and then give them the support to constantly innovate, iterate and serve consumers more directly and personally.  Our teams are innovative, diverse, multidisciplinary and collaborative, taking technology into the future and bringing the world with it.WHO YOU’LL WORK WITHThis role is part of the Nike’s Customer Data Platform within Marketing Technology. This team works on a variety of data points across Geos from Nike’ experiences, Data Science Models, Transaction Data, Permissions etc. which are stitched together to create a rich customer overview that provides the marketers a buffet of options to choose for a marketing activity or build a insight. This team is powered by Data Engineering, Customer Data platform software service and many home-grown tools based on cutting edge technologies.WHO WE ARE LOOKING FORWe are looking for a Software engineer, to be a part of Nike’s Marketing Technology organization. This position will play a critical role, in developing Nike’s Customer Data platform, which supports and promotes our products and provides a unique user experience to all our customers in166 countries globally. We are looking for someone to have a strong Data engineering and analytical background with a focus of delivering an omnichannel consumer experience through data driven marketing.We are looking for a candidate with a strong 2-5 years of experience on working on large datasets and should demonstrate below skills:Academic background in computer science (BE or B Tech) or equivalent work2-5 years of technology related experienceHands-on experience in data engineering developing batch and streaming pipelineHands on experience on Python or Java, SQL, Data Engineering, experience with the following tools or similar: Data Bricks Airflow, EMR, Hive, SparkDemonstrated strength in data modelling, ETL development, and data streamingExperience in microservices architecture, domain driven design, and RESTful API’sKnowledge of data management fundamentals and data storage principlesExperience in customizing product solutionsFamiliarity with the challenge of moving large files across a geographically disperse network. Knowledge of different accelerated transfer methods and technologiesExperience with implementing CI/CD and leading teams with DevOps responsibilities of deploying and supporting the software in productionExperience using cloud services to build an integrated application in production (AWS - EC2, ECS, API gateway, Lambda).Experience with implementing CI/CD and DevOps responsibilities of deploying and supporting the software in productionMarketing technology experience is a plusExperience integrating with various Adobe toolset in the marketing space would be a plus– in particular Adobe Experience Platform (AEP), Journey Orchestration (JO), Customer Journey Analytics(CJA)WHAT YOU’LL WORK ONThis role will be responsible for driving, owning, and shipping all aspects of large, multi-functional efforts feature areas and will partner with engineering teams throughout feature development from architecture, design, implementation, and validation.Design, and build large datasets, and data pipelines to support building out our new Customer Data Platform (CDP) which will enable advanced segmentation in Customer data platform, that creates unique customer experience targeting, automation, and analytics.Build complex data pipelines for real time data, click stream analysis and work to achieve high-quality data ingestion goals.The technology stack that you will be working on: Data Bricks, Python, AirFlow, AWS, EMR, Databricks.Innovating, architecting, designing, and implementing highly available, scalable systems, focusing on highly visible marketing initiatives Contributing ideas for new features and identifying technical areas for improvement proactively Collaborate with upstream and downstream technical teams to develop integrations to provide a seamless flow of our marketing assets from planning to delivery.  NIKE, Inc. is a growth company that looks for team members to grow with it. Nike offers a generous total rewards package, casual work environment, a diverse and inclusive culture, and an electric atmosphere for professional development. No matter the location, or the role, every Nike employee shares one galvanizing mission: To bring inspiration and innovation to every athlete* in the world.NIKE, Inc. is committed to employing a diverse workforce. Qualified applicants will receive consideration without regard to race, color, religion, sex, national origin, age, sexual orientation, gender identity, gender expression, veteran status, or disability.How We HireAt NIKE, Inc. we promise to provide a premium, inclusive, compelling and authentic candidate experience. Delivering on this promise means we allow you to be at your best — and to do that, you need to understand how the hiring process works. Transparency is key.\n",
      "\n",
      "* This overview explains our hiring process for corporate roles. Note there may be different hiring steps involved for non-corporate roles.Start nowBenefitsWhether it’s transportation or financial health, we continually invest in our employees to help them achieve greatness — inside and outside of work. All who work here should be able to realize their full potential.Employee Assistance ProgramHolidaysMedical PlanPaid Time Off (PTO)Product DiscountsLearn moreFIND A STOREBECOME A MEMBERSIGN UP FOR EMAILSEND US FEEDBACKSTUDENT DISCOUNTSGET HELPGET HELPOrder StatusDeliveryReturnsPayment OptionsContact Us On Nike.com InquiriesContact Us On All Other InquiriesABOUT NIKEABOUT NIKENewsCareersInvestorsSustainabilityIndia© 2024 Nike, Inc. All Rights ReservedGuidesNike AdaptNike Air MaxNike FlyleatherNike PegasusNike Zoom FlyNike AirNike FlyEaseNike FreeNike ReactNike ZoomXNike Air Force 1Nike FlyknitNike JoyrideNike VaporflyTerms of SaleTerms of UseNike Privacy Policy\n"
     ]
    }
   ],
   "source": [
    "from langchain_community.document_loaders import WebBaseLoader\n",
    "loader= WebBaseLoader(\"https://jobs.nike.com/job/R-40715?from=job%20search%20funnel\")\n",
    "page_data= loader.load().pop().page_content\n",
    "print(page_data)"
   ]
  },
  {
   "cell_type": "code",
   "execution_count": 3,
   "id": "5c9c56e8-459f-45de-bfb4-bfe1d45d69ff",
   "metadata": {},
   "outputs": [],
   "source": [
    "from langchain_core.prompts import PromptTemplate"
   ]
  },
  {
   "cell_type": "code",
   "execution_count": null,
   "id": "409d7c41-67a7-4851-a8e8-d22cc6aee500",
   "metadata": {},
   "outputs": [],
   "source": [
    "prompt_extract = PromptTemplate.from_template(\n",
    "    \"\"\"\n",
    "    ###Scraped text from the website\n",
    "    {page_data}\n",
    "    ### instruction\n",
    "    your job is to extract the job posting and return them in jSON format containing following keys: 'role', 'experience', 'skills' and 'description'.\n",
    "    Only return valid json\n",
    "    ### VALID JSON (NO PREAMBLE)\n",
    "    \"\"\"\n",
    ")\n",
    "\n",
    "chain_extract= prompt_extract | llm\n",
    "res = chain_extract.invoke(input={\"page_data\": page_data})"
   ]
  },
  {
   "cell_type": "code",
   "execution_count": null,
   "id": "b774ff68-de10-4a4d-a2b1-ceea90d2b218",
   "metadata": {},
   "outputs": [],
   "source": [
    "from langchain_core.output_parsers import JsonOutputParser\n",
    "json_parser=JsonOutputParser()\n",
    "json_res=json_parser.parse(res.content)\n",
    "type(json_res)"
   ]
  },
  {
   "cell_type": "code",
   "execution_count": null,
   "id": "f948120f-091c-4cd3-8f57-dbfdfdd20663",
   "metadata": {},
   "outputs": [],
   "source": [
    "import pandas as pd"
   ]
  },
  {
   "cell_type": "code",
   "execution_count": null,
   "id": "ff55e269-15b7-4832-bae4-2346c2310f46",
   "metadata": {},
   "outputs": [],
   "source": [
    "df= pd.read_csv(\"my_portfolio.csv\")\n",
    "df"
   ]
  },
  {
   "cell_type": "code",
   "execution_count": 18,
   "id": "d166ee2e-09d3-4f1a-8bde-cd16a2129033",
   "metadata": {},
   "outputs": [
    {
     "name": "stderr",
     "output_type": "stream",
     "text": [
      "/Users/vignesh/.cache/chroma/onnx_models/all-MiniLM-L6-v2/onnx.tar.gz: 100%|██████████████████████████████████████████████████████████████████████████████████████████| 79.3M/79.3M [00:07<00:00, 11.8MiB/s]\n",
      "Add of existing embedding ID: <function uuid4 at 0x101ee9b20>\n",
      "Insert of existing embedding ID: <function uuid4 at 0x101ee9b20>\n",
      "Add of existing embedding ID: <function uuid4 at 0x101ee9b20>\n",
      "Insert of existing embedding ID: <function uuid4 at 0x101ee9b20>\n",
      "Add of existing embedding ID: <function uuid4 at 0x101ee9b20>\n",
      "Insert of existing embedding ID: <function uuid4 at 0x101ee9b20>\n",
      "Add of existing embedding ID: <function uuid4 at 0x101ee9b20>\n",
      "Insert of existing embedding ID: <function uuid4 at 0x101ee9b20>\n",
      "Add of existing embedding ID: <function uuid4 at 0x101ee9b20>\n",
      "Insert of existing embedding ID: <function uuid4 at 0x101ee9b20>\n",
      "Add of existing embedding ID: <function uuid4 at 0x101ee9b20>\n",
      "Insert of existing embedding ID: <function uuid4 at 0x101ee9b20>\n",
      "Add of existing embedding ID: <function uuid4 at 0x101ee9b20>\n",
      "Insert of existing embedding ID: <function uuid4 at 0x101ee9b20>\n",
      "Add of existing embedding ID: <function uuid4 at 0x101ee9b20>\n",
      "Insert of existing embedding ID: <function uuid4 at 0x101ee9b20>\n",
      "Add of existing embedding ID: <function uuid4 at 0x101ee9b20>\n",
      "Insert of existing embedding ID: <function uuid4 at 0x101ee9b20>\n",
      "Add of existing embedding ID: <function uuid4 at 0x101ee9b20>\n",
      "Insert of existing embedding ID: <function uuid4 at 0x101ee9b20>\n",
      "Add of existing embedding ID: <function uuid4 at 0x101ee9b20>\n",
      "Insert of existing embedding ID: <function uuid4 at 0x101ee9b20>\n",
      "Add of existing embedding ID: <function uuid4 at 0x101ee9b20>\n",
      "Insert of existing embedding ID: <function uuid4 at 0x101ee9b20>\n",
      "Add of existing embedding ID: <function uuid4 at 0x101ee9b20>\n",
      "Insert of existing embedding ID: <function uuid4 at 0x101ee9b20>\n",
      "Add of existing embedding ID: <function uuid4 at 0x101ee9b20>\n",
      "Insert of existing embedding ID: <function uuid4 at 0x101ee9b20>\n",
      "Add of existing embedding ID: <function uuid4 at 0x101ee9b20>\n",
      "Insert of existing embedding ID: <function uuid4 at 0x101ee9b20>\n",
      "Add of existing embedding ID: <function uuid4 at 0x101ee9b20>\n",
      "Insert of existing embedding ID: <function uuid4 at 0x101ee9b20>\n",
      "Add of existing embedding ID: <function uuid4 at 0x101ee9b20>\n",
      "Insert of existing embedding ID: <function uuid4 at 0x101ee9b20>\n",
      "Add of existing embedding ID: <function uuid4 at 0x101ee9b20>\n",
      "Insert of existing embedding ID: <function uuid4 at 0x101ee9b20>\n",
      "Add of existing embedding ID: <function uuid4 at 0x101ee9b20>\n",
      "Insert of existing embedding ID: <function uuid4 at 0x101ee9b20>\n"
     ]
    }
   ],
   "source": [
    "import chromadb\n",
    "import uuid\n",
    "client= chromadb.PersistentClient(\"vectorstore\")\n",
    "collection=client.get_or_create_collection(name=\"porfolio\")\n",
    "\n",
    "if not collection.count():\n",
    "    for _,row in df.iterrows():\n",
    "        collection.add(documents=row[\"Techstack\"],metadatas={\"links\": row[\"Links\"]},ids=[str(uuid.uuid4)])"
   ]
  },
  {
   "cell_type": "code",
   "execution_count": 31,
   "id": "5db5e0b8-821a-4fcc-a25a-5179e3222a45",
   "metadata": {},
   "outputs": [
    {
     "name": "stderr",
     "output_type": "stream",
     "text": [
      "Number of requested results 2 is greater than number of elements in index 1, updating n_results = 1\n"
     ]
    }
   ],
   "source": [
    "links=collection.query(query_texts=['Experience in react'],n_results=2).get('metadatas')\n"
   ]
  },
  {
   "cell_type": "code",
   "execution_count": null,
   "id": "8003be40-f56a-4d6a-9410-b4c9db03995b",
   "metadata": {},
   "outputs": [],
   "source": []
  },
  {
   "cell_type": "code",
   "execution_count": null,
   "id": "371b93ad-34d0-4fb3-b120-b6e172123984",
   "metadata": {},
   "outputs": [],
   "source": [
    "email_prompt= PromptTemplate.from_template(\n",
    "    \"\"\"\n",
    "    ### JOB DESCRIPTION\n",
    "    {job_description}\n",
    "    ### INSTRUCTION\n",
    "       You are Mohan, a business development executive at AtliQ. AtliQ is an AI & Software Consulting company dedicated to facilitating\n",
    "        the seamless integration of business processes through automated tools. \n",
    "        Over our experience, we have empowered numerous enterprises with tailored solutions, fostering scalability, \n",
    "        process optimization, cost reduction, and heightened overall efficiency. \n",
    "        Your job is to write a cold email to the client regarding the job mentioned above describing the capability of AtliQ \n",
    "        in fulfilling their needs.\n",
    "        Also add the most relevant ones from the following links to showcase Atliq's portfolio: {link_list}\n",
    "        Remember you are Mohan, BDE at AtliQ. \n",
    "        Do not provide a preamble.\n",
    "        ### EMAIL (NO PREAMBLE):\n",
    "    \"\"\"\n",
    ")\n",
    "job = json_res\n",
    "chain_email = email_prompt | llm\n",
    "res = chain_email.invoke({\"job_description\": str(job), \"link_list\": links})\n",
    "print(res)"
   ]
  },
  {
   "cell_type": "code",
   "execution_count": null,
   "id": "13ab96ce-7433-43c7-a07f-f24f11c7f54f",
   "metadata": {},
   "outputs": [],
   "source": []
  }
 ],
 "metadata": {
  "kernelspec": {
   "display_name": "AI Env",
   "language": "python",
   "name": "ai-env"
  },
  "language_info": {
   "codemirror_mode": {
    "name": "ipython",
    "version": 3
   },
   "file_extension": ".py",
   "mimetype": "text/x-python",
   "name": "python",
   "nbconvert_exporter": "python",
   "pygments_lexer": "ipython3",
   "version": "3.12.2"
  }
 },
 "nbformat": 4,
 "nbformat_minor": 5
}
