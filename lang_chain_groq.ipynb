{
 "cells": [
  {
   "cell_type": "code",
   "execution_count": 5,
   "id": "95a494a0-03e3-4b83-b4c9-aa3ecca8ef45",
   "metadata": {},
   "outputs": [
    {
     "name": "stdout",
     "output_type": "stream",
     "text": [
      "You're referring to the latest version of React!\n",
      "\n",
      "As of my knowledge cutoff, the latest version of React is **React 18**. It was released in March 2022 and brings many exciting features and improvements.\n",
      "\n",
      "Some of the key changes and additions in React 18 include:\n",
      "\n",
      "1. **Automatic Batching**: React 18 introduces automatic batching, which reduces the number of render passes and improves performance.\n",
      "2. **Improved Server-Side Rendering (SSR)**: React 18 includes improved SSR support, making it easier to render React components on the server.\n",
      "3. **New `useTransition` Hook**: This hook helps you manage state transitions and provides a way to handle concurrent updates.\n",
      "4. **Improved Error Handling**: React 18 includes better error handling and debugging tools, making it easier to identify and fix issues.\n",
      "5. **Support for React Hooks in Server-Side Rendering**: You can now use React Hooks in SSR, which opens up new possibilities for server-side rendering.\n",
      "\n",
      "If you're interested in learning more about React 18, I recommend checking out the official React documentation or watching some tutorials on YouTube.\n",
      "\n",
      "Are you planning to upgrade to React 18 or have any specific questions about the new version?\n"
     ]
    }
   ],
   "source": [
    "from langchain_groq import ChatGroq\n",
    "llm = ChatGroq(\n",
    "    model=\"llama3-8b-8192\",\n",
    "    groq_api_key='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',\n",
    "    temperature=0\n",
    ")\n",
    "llm_response= llm.invoke(\"The new version of react is ...\")\n",
    "print(llm_response.content)"
   ]
  }
 ],
 "metadata": {
  "kernelspec": {
   "display_name": "AI Env",
   "language": "python",
   "name": "ai-env"
  },
  "language_info": {
   "codemirror_mode": {
    "name": "ipython",
    "version": 3
   },
   "file_extension": ".py",
   "mimetype": "text/x-python",
   "name": "python",
   "nbconvert_exporter": "python",
   "pygments_lexer": "ipython3",
   "version": "3.9.6"
  }
 },
 "nbformat": 4,
 "nbformat_minor": 5
}
